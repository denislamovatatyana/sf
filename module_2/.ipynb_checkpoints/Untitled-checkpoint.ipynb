{
 "cells": [
  {
   "cell_type": "code",
   "execution_count": 12,
   "metadata": {},
   "outputs": [
    {
     "data": {
      "text/html": [
       "<div>\n",
       "<style scoped>\n",
       "    .dataframe tbody tr th:only-of-type {\n",
       "        vertical-align: middle;\n",
       "    }\n",
       "\n",
       "    .dataframe tbody tr th {\n",
       "        vertical-align: top;\n",
       "    }\n",
       "\n",
       "    .dataframe thead th {\n",
       "        text-align: right;\n",
       "    }\n",
       "</style>\n",
       "<table border=\"1\" class=\"dataframe\">\n",
       "  <thead>\n",
       "    <tr style=\"text-align: right;\">\n",
       "      <th></th>\n",
       "      <th>school</th>\n",
       "      <th>sex</th>\n",
       "      <th>age</th>\n",
       "      <th>address</th>\n",
       "      <th>famsize</th>\n",
       "      <th>pstatus</th>\n",
       "      <th>medu</th>\n",
       "      <th>fedu</th>\n",
       "      <th>mjob</th>\n",
       "      <th>fjob</th>\n",
       "      <th>reason</th>\n",
       "      <th>guardian</th>\n",
       "      <th>traveltime</th>\n",
       "      <th>studytime</th>\n",
       "      <th>failures</th>\n",
       "      <th>schoolsup</th>\n",
       "      <th>famsup</th>\n",
       "      <th>paid</th>\n",
       "      <th>activities</th>\n",
       "      <th>nursery</th>\n",
       "      <th>studytime_granular</th>\n",
       "      <th>higher</th>\n",
       "      <th>internet</th>\n",
       "      <th>romantic</th>\n",
       "      <th>famrel</th>\n",
       "      <th>freetime</th>\n",
       "      <th>goout</th>\n",
       "      <th>health</th>\n",
       "      <th>absences</th>\n",
       "      <th>score</th>\n",
       "    </tr>\n",
       "  </thead>\n",
       "  <tbody>\n",
       "    <tr>\n",
       "      <th>0</th>\n",
       "      <td>GP</td>\n",
       "      <td>F</td>\n",
       "      <td>18</td>\n",
       "      <td>U</td>\n",
       "      <td>NaN</td>\n",
       "      <td>A</td>\n",
       "      <td>4.0</td>\n",
       "      <td>4.0</td>\n",
       "      <td>at_home</td>\n",
       "      <td>teacher</td>\n",
       "      <td>course</td>\n",
       "      <td>mother</td>\n",
       "      <td>2.0</td>\n",
       "      <td>2.0</td>\n",
       "      <td>0.0</td>\n",
       "      <td>yes</td>\n",
       "      <td>no</td>\n",
       "      <td>no</td>\n",
       "      <td>no</td>\n",
       "      <td>yes</td>\n",
       "      <td>-6.0</td>\n",
       "      <td>yes</td>\n",
       "      <td>NaN</td>\n",
       "      <td>no</td>\n",
       "      <td>4.0</td>\n",
       "      <td>3.0</td>\n",
       "      <td>4.0</td>\n",
       "      <td>3.0</td>\n",
       "      <td>6.0</td>\n",
       "      <td>30.0</td>\n",
       "    </tr>\n",
       "    <tr>\n",
       "      <th>1</th>\n",
       "      <td>GP</td>\n",
       "      <td>F</td>\n",
       "      <td>17</td>\n",
       "      <td>U</td>\n",
       "      <td>GT3</td>\n",
       "      <td>NaN</td>\n",
       "      <td>1.0</td>\n",
       "      <td>1.0</td>\n",
       "      <td>at_home</td>\n",
       "      <td>other</td>\n",
       "      <td>course</td>\n",
       "      <td>father</td>\n",
       "      <td>1.0</td>\n",
       "      <td>2.0</td>\n",
       "      <td>0.0</td>\n",
       "      <td>no</td>\n",
       "      <td>yes</td>\n",
       "      <td>no</td>\n",
       "      <td>no</td>\n",
       "      <td>no</td>\n",
       "      <td>-6.0</td>\n",
       "      <td>yes</td>\n",
       "      <td>yes</td>\n",
       "      <td>no</td>\n",
       "      <td>5.0</td>\n",
       "      <td>3.0</td>\n",
       "      <td>3.0</td>\n",
       "      <td>3.0</td>\n",
       "      <td>4.0</td>\n",
       "      <td>30.0</td>\n",
       "    </tr>\n",
       "    <tr>\n",
       "      <th>2</th>\n",
       "      <td>GP</td>\n",
       "      <td>F</td>\n",
       "      <td>15</td>\n",
       "      <td>U</td>\n",
       "      <td>LE3</td>\n",
       "      <td>T</td>\n",
       "      <td>1.0</td>\n",
       "      <td>1.0</td>\n",
       "      <td>at_home</td>\n",
       "      <td>other</td>\n",
       "      <td>other</td>\n",
       "      <td>mother</td>\n",
       "      <td>1.0</td>\n",
       "      <td>2.0</td>\n",
       "      <td>3.0</td>\n",
       "      <td>yes</td>\n",
       "      <td>no</td>\n",
       "      <td>NaN</td>\n",
       "      <td>no</td>\n",
       "      <td>yes</td>\n",
       "      <td>-6.0</td>\n",
       "      <td>yes</td>\n",
       "      <td>yes</td>\n",
       "      <td>NaN</td>\n",
       "      <td>4.0</td>\n",
       "      <td>3.0</td>\n",
       "      <td>2.0</td>\n",
       "      <td>3.0</td>\n",
       "      <td>10.0</td>\n",
       "      <td>50.0</td>\n",
       "    </tr>\n",
       "    <tr>\n",
       "      <th>3</th>\n",
       "      <td>GP</td>\n",
       "      <td>F</td>\n",
       "      <td>15</td>\n",
       "      <td>U</td>\n",
       "      <td>GT3</td>\n",
       "      <td>T</td>\n",
       "      <td>4.0</td>\n",
       "      <td>2.0</td>\n",
       "      <td>health</td>\n",
       "      <td>NaN</td>\n",
       "      <td>home</td>\n",
       "      <td>mother</td>\n",
       "      <td>1.0</td>\n",
       "      <td>3.0</td>\n",
       "      <td>0.0</td>\n",
       "      <td>no</td>\n",
       "      <td>yes</td>\n",
       "      <td>yes</td>\n",
       "      <td>yes</td>\n",
       "      <td>yes</td>\n",
       "      <td>-9.0</td>\n",
       "      <td>yes</td>\n",
       "      <td>yes</td>\n",
       "      <td>yes</td>\n",
       "      <td>3.0</td>\n",
       "      <td>2.0</td>\n",
       "      <td>2.0</td>\n",
       "      <td>5.0</td>\n",
       "      <td>2.0</td>\n",
       "      <td>75.0</td>\n",
       "    </tr>\n",
       "    <tr>\n",
       "      <th>4</th>\n",
       "      <td>GP</td>\n",
       "      <td>F</td>\n",
       "      <td>16</td>\n",
       "      <td>U</td>\n",
       "      <td>GT3</td>\n",
       "      <td>T</td>\n",
       "      <td>3.0</td>\n",
       "      <td>3.0</td>\n",
       "      <td>other</td>\n",
       "      <td>other</td>\n",
       "      <td>home</td>\n",
       "      <td>father</td>\n",
       "      <td>1.0</td>\n",
       "      <td>2.0</td>\n",
       "      <td>0.0</td>\n",
       "      <td>no</td>\n",
       "      <td>yes</td>\n",
       "      <td>yes</td>\n",
       "      <td>no</td>\n",
       "      <td>yes</td>\n",
       "      <td>-6.0</td>\n",
       "      <td>yes</td>\n",
       "      <td>no</td>\n",
       "      <td>no</td>\n",
       "      <td>4.0</td>\n",
       "      <td>3.0</td>\n",
       "      <td>2.0</td>\n",
       "      <td>5.0</td>\n",
       "      <td>4.0</td>\n",
       "      <td>50.0</td>\n",
       "    </tr>\n",
       "  </tbody>\n",
       "</table>\n",
       "</div>"
      ],
      "text/plain": [
       "  school sex  age address famsize pstatus  medu  fedu     mjob     fjob  \\\n",
       "0     GP   F   18       U     NaN       A   4.0   4.0  at_home  teacher   \n",
       "1     GP   F   17       U     GT3     NaN   1.0   1.0  at_home    other   \n",
       "2     GP   F   15       U     LE3       T   1.0   1.0  at_home    other   \n",
       "3     GP   F   15       U     GT3       T   4.0   2.0   health      NaN   \n",
       "4     GP   F   16       U     GT3       T   3.0   3.0    other    other   \n",
       "\n",
       "   reason guardian  traveltime  studytime  failures schoolsup famsup paid  \\\n",
       "0  course   mother         2.0        2.0       0.0       yes     no   no   \n",
       "1  course   father         1.0        2.0       0.0        no    yes   no   \n",
       "2   other   mother         1.0        2.0       3.0       yes     no  NaN   \n",
       "3    home   mother         1.0        3.0       0.0        no    yes  yes   \n",
       "4    home   father         1.0        2.0       0.0        no    yes  yes   \n",
       "\n",
       "  activities nursery  studytime_granular higher internet romantic  famrel  \\\n",
       "0         no     yes                -6.0    yes      NaN       no     4.0   \n",
       "1         no      no                -6.0    yes      yes       no     5.0   \n",
       "2         no     yes                -6.0    yes      yes      NaN     4.0   \n",
       "3        yes     yes                -9.0    yes      yes      yes     3.0   \n",
       "4         no     yes                -6.0    yes       no       no     4.0   \n",
       "\n",
       "   freetime  goout  health  absences  score  \n",
       "0       3.0    4.0     3.0       6.0   30.0  \n",
       "1       3.0    3.0     3.0       4.0   30.0  \n",
       "2       3.0    2.0     3.0      10.0   50.0  \n",
       "3       2.0    2.0     5.0       2.0   75.0  \n",
       "4       3.0    2.0     5.0       4.0   50.0  "
      ]
     },
     "metadata": {},
     "output_type": "display_data"
    },
    {
     "name": "stdout",
     "output_type": "stream",
     "text": [
      "<class 'pandas.core.frame.DataFrame'>\n",
      "RangeIndex: 395 entries, 0 to 394\n",
      "Data columns (total 30 columns):\n",
      " #   Column              Non-Null Count  Dtype  \n",
      "---  ------              --------------  -----  \n",
      " 0   school              395 non-null    object \n",
      " 1   sex                 395 non-null    object \n",
      " 2   age                 395 non-null    int64  \n",
      " 3   address             378 non-null    object \n",
      " 4   famsize             368 non-null    object \n",
      " 5   pstatus             350 non-null    object \n",
      " 6   medu                392 non-null    float64\n",
      " 7   fedu                371 non-null    float64\n",
      " 8   mjob                376 non-null    object \n",
      " 9   fjob                359 non-null    object \n",
      " 10  reason              378 non-null    object \n",
      " 11  guardian            364 non-null    object \n",
      " 12  traveltime          367 non-null    float64\n",
      " 13  studytime           388 non-null    float64\n",
      " 14  failures            373 non-null    float64\n",
      " 15  schoolsup           386 non-null    object \n",
      " 16  famsup              356 non-null    object \n",
      " 17  paid                355 non-null    object \n",
      " 18  activities          381 non-null    object \n",
      " 19  nursery             379 non-null    object \n",
      " 20  studytime_granular  388 non-null    float64\n",
      " 21  higher              375 non-null    object \n",
      " 22  internet            361 non-null    object \n",
      " 23  romantic            364 non-null    object \n",
      " 24  famrel              368 non-null    float64\n",
      " 25  freetime            384 non-null    float64\n",
      " 26  goout               387 non-null    float64\n",
      " 27  health              380 non-null    float64\n",
      " 28  absences            383 non-null    float64\n",
      " 29  score               389 non-null    float64\n",
      "dtypes: float64(12), int64(1), object(17)\n",
      "memory usage: 92.7+ KB\n"
     ]
    },
    {
     "data": {
      "text/plain": [
       "None"
      ]
     },
     "metadata": {},
     "output_type": "display_data"
    }
   ],
   "source": [
    "import pandas as pd\n",
    "import matplotlib.pyplot as plt\n",
    "import seaborn as sns\n",
    "import numpy as np\n",
    "from itertools import combinations\n",
    "from scipy.stats import ttest_ind\n",
    "\n",
    "\n",
    "pd.set_option('display.max_rows', 50)  # показывать больше строк\n",
    "pd.set_option('display.max_columns', 50)  # показывать больше колонок\n",
    "\n",
    "def get_IQR(x, a):\n",
    "    perc25 = x[a].quantile(0.25)\n",
    "    perc75 = x[a].quantile(0.75)\n",
    "    IQR = perc75 - perc25\n",
    "    f = perc25 - 1.5*IQR\n",
    "    l = perc75 + 1.5*IQR\n",
    "    print(a + ' : ',\n",
    "          'count={}; '.format(x[a].count()),\n",
    "          'min={}; '.format(x[a].min()),\n",
    "          'max={}; '.format(x[a].max()),\n",
    "          'std={}; '.format(x[a].std()),\n",
    "          'median={}; '.format(x[a].median()),\n",
    "          '25={}; '.format(perc25),\n",
    "          '75={}; '.format(perc75),\n",
    "          'IQR={}; '.format(IQR),\n",
    "          'f={}; '.format(f), 'fcount={}; '.format(x[x[a] < f][a].count()),\n",
    "          'l={}; '.format(l), 'lcount={}; '.format(x[x[a] > l][a].count())\n",
    "         )\n",
    "          \n",
    "    \n",
    "stud_math = pd.read_csv('stud_math.csv')\n",
    "stud_math = stud_math.rename(str.lower, axis='columns')\n",
    "stud_math = stud_math.rename(columns={\"studytime, granular\": \"studytime_granular\"})\n",
    "\n",
    "\n",
    "def get_stat_dif(column):\n",
    "    cols = stud_math.loc[:, column].value_counts().index\n",
    "    combinations_all = list(combinations(cols, 2))\n",
    "    for comb in combinations_all:\n",
    "        if ttest_ind(stud_math.loc[stud_math.loc[:, column] == comb[0], 'score'], stud_math.loc[stud_math.loc[:, column] == comb[1], 'score']).pvalue <= 0.05/len(combinations_all): # Учли поправку Бонферони\n",
    "            print('Найдены статистически значимые различия для колонки', column)\n",
    "            break\n",
    "            \n",
    "            \n",
    "display(stud_math.head())\n",
    "display(stud_math.info())"
   ]
  },
  {
   "cell_type": "markdown",
   "metadata": {},
   "source": [
    "- Начнем с числовых данных:"
   ]
  },
  {
   "cell_type": "code",
   "execution_count": 13,
   "metadata": {},
   "outputs": [
    {
     "data": {
      "text/html": [
       "<div>\n",
       "<style scoped>\n",
       "    .dataframe tbody tr th:only-of-type {\n",
       "        vertical-align: middle;\n",
       "    }\n",
       "\n",
       "    .dataframe tbody tr th {\n",
       "        vertical-align: top;\n",
       "    }\n",
       "\n",
       "    .dataframe thead th {\n",
       "        text-align: right;\n",
       "    }\n",
       "</style>\n",
       "<table border=\"1\" class=\"dataframe\">\n",
       "  <thead>\n",
       "    <tr style=\"text-align: right;\">\n",
       "      <th></th>\n",
       "      <th>age</th>\n",
       "      <th>medu</th>\n",
       "      <th>fedu</th>\n",
       "      <th>traveltime</th>\n",
       "      <th>studytime</th>\n",
       "      <th>failures</th>\n",
       "      <th>studytime_granular</th>\n",
       "      <th>famrel</th>\n",
       "      <th>freetime</th>\n",
       "      <th>goout</th>\n",
       "      <th>health</th>\n",
       "      <th>absences</th>\n",
       "      <th>score</th>\n",
       "    </tr>\n",
       "  </thead>\n",
       "  <tbody>\n",
       "    <tr>\n",
       "      <th>count</th>\n",
       "      <td>395.000000</td>\n",
       "      <td>392.000000</td>\n",
       "      <td>371.000000</td>\n",
       "      <td>367.000000</td>\n",
       "      <td>388.000000</td>\n",
       "      <td>373.000000</td>\n",
       "      <td>388.000000</td>\n",
       "      <td>368.000000</td>\n",
       "      <td>384.000000</td>\n",
       "      <td>387.000000</td>\n",
       "      <td>380.000000</td>\n",
       "      <td>383.000000</td>\n",
       "      <td>389.000000</td>\n",
       "    </tr>\n",
       "    <tr>\n",
       "      <th>mean</th>\n",
       "      <td>16.696203</td>\n",
       "      <td>2.750000</td>\n",
       "      <td>2.614555</td>\n",
       "      <td>1.438692</td>\n",
       "      <td>2.038660</td>\n",
       "      <td>0.337802</td>\n",
       "      <td>-6.115979</td>\n",
       "      <td>3.937500</td>\n",
       "      <td>3.231771</td>\n",
       "      <td>3.105943</td>\n",
       "      <td>3.531579</td>\n",
       "      <td>7.279373</td>\n",
       "      <td>52.262211</td>\n",
       "    </tr>\n",
       "    <tr>\n",
       "      <th>std</th>\n",
       "      <td>1.276043</td>\n",
       "      <td>1.098127</td>\n",
       "      <td>2.228732</td>\n",
       "      <td>0.694181</td>\n",
       "      <td>0.842078</td>\n",
       "      <td>0.743135</td>\n",
       "      <td>2.526235</td>\n",
       "      <td>0.927277</td>\n",
       "      <td>0.993940</td>\n",
       "      <td>1.115896</td>\n",
       "      <td>1.396019</td>\n",
       "      <td>23.465197</td>\n",
       "      <td>22.919022</td>\n",
       "    </tr>\n",
       "    <tr>\n",
       "      <th>min</th>\n",
       "      <td>15.000000</td>\n",
       "      <td>0.000000</td>\n",
       "      <td>0.000000</td>\n",
       "      <td>1.000000</td>\n",
       "      <td>1.000000</td>\n",
       "      <td>0.000000</td>\n",
       "      <td>-12.000000</td>\n",
       "      <td>-1.000000</td>\n",
       "      <td>1.000000</td>\n",
       "      <td>1.000000</td>\n",
       "      <td>1.000000</td>\n",
       "      <td>0.000000</td>\n",
       "      <td>0.000000</td>\n",
       "    </tr>\n",
       "    <tr>\n",
       "      <th>25%</th>\n",
       "      <td>16.000000</td>\n",
       "      <td>2.000000</td>\n",
       "      <td>2.000000</td>\n",
       "      <td>1.000000</td>\n",
       "      <td>1.000000</td>\n",
       "      <td>0.000000</td>\n",
       "      <td>-6.000000</td>\n",
       "      <td>4.000000</td>\n",
       "      <td>3.000000</td>\n",
       "      <td>2.000000</td>\n",
       "      <td>3.000000</td>\n",
       "      <td>0.000000</td>\n",
       "      <td>40.000000</td>\n",
       "    </tr>\n",
       "    <tr>\n",
       "      <th>50%</th>\n",
       "      <td>17.000000</td>\n",
       "      <td>3.000000</td>\n",
       "      <td>2.000000</td>\n",
       "      <td>1.000000</td>\n",
       "      <td>2.000000</td>\n",
       "      <td>0.000000</td>\n",
       "      <td>-6.000000</td>\n",
       "      <td>4.000000</td>\n",
       "      <td>3.000000</td>\n",
       "      <td>3.000000</td>\n",
       "      <td>4.000000</td>\n",
       "      <td>4.000000</td>\n",
       "      <td>55.000000</td>\n",
       "    </tr>\n",
       "    <tr>\n",
       "      <th>75%</th>\n",
       "      <td>18.000000</td>\n",
       "      <td>4.000000</td>\n",
       "      <td>3.000000</td>\n",
       "      <td>2.000000</td>\n",
       "      <td>2.000000</td>\n",
       "      <td>0.000000</td>\n",
       "      <td>-3.000000</td>\n",
       "      <td>5.000000</td>\n",
       "      <td>4.000000</td>\n",
       "      <td>4.000000</td>\n",
       "      <td>5.000000</td>\n",
       "      <td>8.000000</td>\n",
       "      <td>70.000000</td>\n",
       "    </tr>\n",
       "    <tr>\n",
       "      <th>max</th>\n",
       "      <td>22.000000</td>\n",
       "      <td>4.000000</td>\n",
       "      <td>40.000000</td>\n",
       "      <td>4.000000</td>\n",
       "      <td>4.000000</td>\n",
       "      <td>3.000000</td>\n",
       "      <td>-3.000000</td>\n",
       "      <td>5.000000</td>\n",
       "      <td>5.000000</td>\n",
       "      <td>5.000000</td>\n",
       "      <td>5.000000</td>\n",
       "      <td>385.000000</td>\n",
       "      <td>100.000000</td>\n",
       "    </tr>\n",
       "  </tbody>\n",
       "</table>\n",
       "</div>"
      ],
      "text/plain": [
       "              age        medu        fedu  traveltime   studytime    failures  \\\n",
       "count  395.000000  392.000000  371.000000  367.000000  388.000000  373.000000   \n",
       "mean    16.696203    2.750000    2.614555    1.438692    2.038660    0.337802   \n",
       "std      1.276043    1.098127    2.228732    0.694181    0.842078    0.743135   \n",
       "min     15.000000    0.000000    0.000000    1.000000    1.000000    0.000000   \n",
       "25%     16.000000    2.000000    2.000000    1.000000    1.000000    0.000000   \n",
       "50%     17.000000    3.000000    2.000000    1.000000    2.000000    0.000000   \n",
       "75%     18.000000    4.000000    3.000000    2.000000    2.000000    0.000000   \n",
       "max     22.000000    4.000000   40.000000    4.000000    4.000000    3.000000   \n",
       "\n",
       "       studytime_granular      famrel    freetime       goout      health  \\\n",
       "count          388.000000  368.000000  384.000000  387.000000  380.000000   \n",
       "mean            -6.115979    3.937500    3.231771    3.105943    3.531579   \n",
       "std              2.526235    0.927277    0.993940    1.115896    1.396019   \n",
       "min            -12.000000   -1.000000    1.000000    1.000000    1.000000   \n",
       "25%             -6.000000    4.000000    3.000000    2.000000    3.000000   \n",
       "50%             -6.000000    4.000000    3.000000    3.000000    4.000000   \n",
       "75%             -3.000000    5.000000    4.000000    4.000000    5.000000   \n",
       "max             -3.000000    5.000000    5.000000    5.000000    5.000000   \n",
       "\n",
       "         absences       score  \n",
       "count  383.000000  389.000000  \n",
       "mean     7.279373   52.262211  \n",
       "std     23.465197   22.919022  \n",
       "min      0.000000    0.000000  \n",
       "25%      0.000000   40.000000  \n",
       "50%      4.000000   55.000000  \n",
       "75%      8.000000   70.000000  \n",
       "max    385.000000  100.000000  "
      ]
     },
     "execution_count": 13,
     "metadata": {},
     "output_type": "execute_result"
    }
   ],
   "source": [
    "stud_math.describe()"
   ]
  },
  {
   "cell_type": "markdown",
   "metadata": {},
   "source": [
    "- Рассмотрим столбцы studytime и studytime_granular"
   ]
  },
  {
   "cell_type": "code",
   "execution_count": 14,
   "metadata": {
    "scrolled": true
   },
   "outputs": [
    {
     "data": {
      "text/plain": [
       "-0.9999999999999991"
      ]
     },
     "execution_count": 14,
     "metadata": {},
     "output_type": "execute_result"
    }
   ],
   "source": [
    "stud_math['studytime'].corr(stud_math['studytime_granular'])"
   ]
  },
  {
   "cell_type": "markdown",
   "metadata": {},
   "source": [
    "studytime и studytime_granular имеют полностью отрицательную корреляцию, studytime_granular можно удалить"
   ]
  },
  {
   "cell_type": "code",
   "execution_count": 15,
   "metadata": {},
   "outputs": [
    {
     "data": {
      "text/html": [
       "<div>\n",
       "<style scoped>\n",
       "    .dataframe tbody tr th:only-of-type {\n",
       "        vertical-align: middle;\n",
       "    }\n",
       "\n",
       "    .dataframe tbody tr th {\n",
       "        vertical-align: top;\n",
       "    }\n",
       "\n",
       "    .dataframe thead th {\n",
       "        text-align: right;\n",
       "    }\n",
       "</style>\n",
       "<table border=\"1\" class=\"dataframe\">\n",
       "  <thead>\n",
       "    <tr style=\"text-align: right;\">\n",
       "      <th></th>\n",
       "      <th>age</th>\n",
       "      <th>medu</th>\n",
       "      <th>fedu</th>\n",
       "      <th>traveltime</th>\n",
       "      <th>studytime</th>\n",
       "      <th>failures</th>\n",
       "      <th>famrel</th>\n",
       "      <th>freetime</th>\n",
       "      <th>goout</th>\n",
       "      <th>health</th>\n",
       "      <th>absences</th>\n",
       "      <th>score</th>\n",
       "    </tr>\n",
       "  </thead>\n",
       "  <tbody>\n",
       "    <tr>\n",
       "      <th>count</th>\n",
       "      <td>395.000000</td>\n",
       "      <td>392.000000</td>\n",
       "      <td>371.000000</td>\n",
       "      <td>367.000000</td>\n",
       "      <td>388.000000</td>\n",
       "      <td>373.000000</td>\n",
       "      <td>368.000000</td>\n",
       "      <td>384.000000</td>\n",
       "      <td>387.000000</td>\n",
       "      <td>380.000000</td>\n",
       "      <td>383.000000</td>\n",
       "      <td>389.000000</td>\n",
       "    </tr>\n",
       "    <tr>\n",
       "      <th>mean</th>\n",
       "      <td>16.696203</td>\n",
       "      <td>2.750000</td>\n",
       "      <td>2.614555</td>\n",
       "      <td>1.438692</td>\n",
       "      <td>2.038660</td>\n",
       "      <td>0.337802</td>\n",
       "      <td>3.937500</td>\n",
       "      <td>3.231771</td>\n",
       "      <td>3.105943</td>\n",
       "      <td>3.531579</td>\n",
       "      <td>7.279373</td>\n",
       "      <td>52.262211</td>\n",
       "    </tr>\n",
       "    <tr>\n",
       "      <th>std</th>\n",
       "      <td>1.276043</td>\n",
       "      <td>1.098127</td>\n",
       "      <td>2.228732</td>\n",
       "      <td>0.694181</td>\n",
       "      <td>0.842078</td>\n",
       "      <td>0.743135</td>\n",
       "      <td>0.927277</td>\n",
       "      <td>0.993940</td>\n",
       "      <td>1.115896</td>\n",
       "      <td>1.396019</td>\n",
       "      <td>23.465197</td>\n",
       "      <td>22.919022</td>\n",
       "    </tr>\n",
       "    <tr>\n",
       "      <th>min</th>\n",
       "      <td>15.000000</td>\n",
       "      <td>0.000000</td>\n",
       "      <td>0.000000</td>\n",
       "      <td>1.000000</td>\n",
       "      <td>1.000000</td>\n",
       "      <td>0.000000</td>\n",
       "      <td>-1.000000</td>\n",
       "      <td>1.000000</td>\n",
       "      <td>1.000000</td>\n",
       "      <td>1.000000</td>\n",
       "      <td>0.000000</td>\n",
       "      <td>0.000000</td>\n",
       "    </tr>\n",
       "    <tr>\n",
       "      <th>25%</th>\n",
       "      <td>16.000000</td>\n",
       "      <td>2.000000</td>\n",
       "      <td>2.000000</td>\n",
       "      <td>1.000000</td>\n",
       "      <td>1.000000</td>\n",
       "      <td>0.000000</td>\n",
       "      <td>4.000000</td>\n",
       "      <td>3.000000</td>\n",
       "      <td>2.000000</td>\n",
       "      <td>3.000000</td>\n",
       "      <td>0.000000</td>\n",
       "      <td>40.000000</td>\n",
       "    </tr>\n",
       "    <tr>\n",
       "      <th>50%</th>\n",
       "      <td>17.000000</td>\n",
       "      <td>3.000000</td>\n",
       "      <td>2.000000</td>\n",
       "      <td>1.000000</td>\n",
       "      <td>2.000000</td>\n",
       "      <td>0.000000</td>\n",
       "      <td>4.000000</td>\n",
       "      <td>3.000000</td>\n",
       "      <td>3.000000</td>\n",
       "      <td>4.000000</td>\n",
       "      <td>4.000000</td>\n",
       "      <td>55.000000</td>\n",
       "    </tr>\n",
       "    <tr>\n",
       "      <th>75%</th>\n",
       "      <td>18.000000</td>\n",
       "      <td>4.000000</td>\n",
       "      <td>3.000000</td>\n",
       "      <td>2.000000</td>\n",
       "      <td>2.000000</td>\n",
       "      <td>0.000000</td>\n",
       "      <td>5.000000</td>\n",
       "      <td>4.000000</td>\n",
       "      <td>4.000000</td>\n",
       "      <td>5.000000</td>\n",
       "      <td>8.000000</td>\n",
       "      <td>70.000000</td>\n",
       "    </tr>\n",
       "    <tr>\n",
       "      <th>max</th>\n",
       "      <td>22.000000</td>\n",
       "      <td>4.000000</td>\n",
       "      <td>40.000000</td>\n",
       "      <td>4.000000</td>\n",
       "      <td>4.000000</td>\n",
       "      <td>3.000000</td>\n",
       "      <td>5.000000</td>\n",
       "      <td>5.000000</td>\n",
       "      <td>5.000000</td>\n",
       "      <td>5.000000</td>\n",
       "      <td>385.000000</td>\n",
       "      <td>100.000000</td>\n",
       "    </tr>\n",
       "  </tbody>\n",
       "</table>\n",
       "</div>"
      ],
      "text/plain": [
       "              age        medu        fedu  traveltime   studytime    failures  \\\n",
       "count  395.000000  392.000000  371.000000  367.000000  388.000000  373.000000   \n",
       "mean    16.696203    2.750000    2.614555    1.438692    2.038660    0.337802   \n",
       "std      1.276043    1.098127    2.228732    0.694181    0.842078    0.743135   \n",
       "min     15.000000    0.000000    0.000000    1.000000    1.000000    0.000000   \n",
       "25%     16.000000    2.000000    2.000000    1.000000    1.000000    0.000000   \n",
       "50%     17.000000    3.000000    2.000000    1.000000    2.000000    0.000000   \n",
       "75%     18.000000    4.000000    3.000000    2.000000    2.000000    0.000000   \n",
       "max     22.000000    4.000000   40.000000    4.000000    4.000000    3.000000   \n",
       "\n",
       "           famrel    freetime       goout      health    absences       score  \n",
       "count  368.000000  384.000000  387.000000  380.000000  383.000000  389.000000  \n",
       "mean     3.937500    3.231771    3.105943    3.531579    7.279373   52.262211  \n",
       "std      0.927277    0.993940    1.115896    1.396019   23.465197   22.919022  \n",
       "min     -1.000000    1.000000    1.000000    1.000000    0.000000    0.000000  \n",
       "25%      4.000000    3.000000    2.000000    3.000000    0.000000   40.000000  \n",
       "50%      4.000000    3.000000    3.000000    4.000000    4.000000   55.000000  \n",
       "75%      5.000000    4.000000    4.000000    5.000000    8.000000   70.000000  \n",
       "max      5.000000    5.000000    5.000000    5.000000  385.000000  100.000000  "
      ]
     },
     "execution_count": 15,
     "metadata": {},
     "output_type": "execute_result"
    }
   ],
   "source": [
    "del stud_math['studytime_granular']\n",
    "stud_math.describe()"
   ]
  },
  {
   "cell_type": "markdown",
   "metadata": {},
   "source": [
    "- рассмотрим колонку age:\n"
   ]
  },
  {
   "cell_type": "code",
   "execution_count": 16,
   "metadata": {},
   "outputs": [
    {
     "name": "stdout",
     "output_type": "stream",
     "text": [
      "None count = 0\n"
     ]
    },
    {
     "data": {
      "text/plain": [
       "count    395.000000\n",
       "mean      16.696203\n",
       "std        1.276043\n",
       "min       15.000000\n",
       "25%       16.000000\n",
       "50%       17.000000\n",
       "75%       18.000000\n",
       "max       22.000000\n",
       "Name: age, dtype: float64"
      ]
     },
     "execution_count": 16,
     "metadata": {},
     "output_type": "execute_result"
    },
    {
     "data": {
      "image/png": "[encoded data removed]",
      "text/plain": [
       "<Figure size 432x288 with 1 Axes>"
      ]
     },
     "metadata": {
      "needs_background": "light"
     },
     "output_type": "display_data"
    }
   ],
   "source": [
    "print('None count =', stud_math.age.isna().sum())\n",
    "stud_math.age.hist()\n",
    "stud_math.age.describe()"
   ]
  },
  {
   "cell_type": "markdown",
   "metadata": {},
   "source": [
    "Выбросами являются записи, где age >= 20 лет."
   ]
  },
  {
   "cell_type": "code",
   "execution_count": 17,
   "metadata": {},
   "outputs": [
    {
     "name": "stdout",
     "output_type": "stream",
     "text": [
      "Выбросами являются записи, где age >= 20 лет. Удаляем  2 из 395\n"
     ]
    },
    {
     "data": {
      "text/plain": [
       "count    393.000000\n",
       "mean      16.671756\n",
       "std        1.231658\n",
       "min       15.000000\n",
       "25%       16.000000\n",
       "50%       17.000000\n",
       "75%       18.000000\n",
       "max       20.000000\n",
       "Name: age, dtype: float64"
      ]
     },
     "execution_count": 17,
     "metadata": {},
     "output_type": "execute_result"
    },
    {
     "data": {
      "image/png": "[encoded data removed]",
      "text/plain": [
       "<Figure size 432x288 with 1 Axes>"
      ]
     },
     "metadata": {
      "needs_background": "light"
     },
     "output_type": "display_data"
    }
   ],
   "source": [
    "print('Выбросами являются записи, где age >= 20 лет. Удаляем ', stud_math.loc[stud_math['age'] > 20]['age'].count(), 'из', stud_math['age'].count())\n",
    "stud_math = stud_math.loc[stud_math['age'] <= 20] # удаляем выбросы\n",
    "stud_math.age.hist()\n",
    "stud_math.age.describe()"
   ]
  },
  {
   "cell_type": "markdown",
   "metadata": {},
   "source": [
    "- рассмотрим колонку failures:"
   ]
  },
  {
   "cell_type": "code",
   "execution_count": 18,
   "metadata": {},
   "outputs": [
    {
     "name": "stdout",
     "output_type": "stream",
     "text": [
      "None count = 22 ; 5.6 %\n"
     ]
    },
    {
     "data": {
      "text/plain": [
       "count    371.000000\n",
       "mean       0.323450\n",
       "std        0.718832\n",
       "min        0.000000\n",
       "25%        0.000000\n",
       "50%        0.000000\n",
       "75%        0.000000\n",
       "max        3.000000\n",
       "Name: failures, dtype: float64"
      ]
     },
     "execution_count": 18,
     "metadata": {},
     "output_type": "execute_result"
    },
    {
     "data": {
      "image/png": "[encoded data removed]",
      "text/plain": [
       "<Figure size 432x288 with 1 Axes>"
      ]
     },
     "metadata": {
      "needs_background": "light"
     },
     "output_type": "display_data"
    }
   ],
   "source": [
    "print('None count =', stud_math.failures.isna().sum(), ';',\n",
    "      round(stud_math.failures.isna().sum()/len(stud_math)*100, 2), '%')\n",
    "stud_math.failures.hist()\n",
    "stud_math.failures.describe()"
   ]
  },
  {
   "cell_type": "markdown",
   "metadata": {},
   "source": [
    "- Это колонка имеет значение: количество внеучебных неудач (n, если 1<=n<=3, иначе 0). Эта колонка больше похожа на категорию, где 1 - 1 происшествие, 2 - 2 происшествия, 3 - 3 происшествия, 0 - 0 или 3+ происшествий. Мы видим пропущенные данные в 22 строках, запоним их модой, т е 0"
   ]
  },
  {
   "cell_type": "code",
   "execution_count": 19,
   "metadata": {},
   "outputs": [
    {
     "data": {
      "text/plain": [
       "count    393.000000\n",
       "mean       0.305344\n",
       "std        0.702326\n",
       "min        0.000000\n",
       "25%        0.000000\n",
       "50%        0.000000\n",
       "75%        0.000000\n",
       "max        3.000000\n",
       "Name: failures, dtype: float64"
      ]
     },
     "execution_count": 19,
     "metadata": {},
     "output_type": "execute_result"
    }
   ],
   "source": [
    "stud_math.failures = stud_math.failures.apply(lambda x: 0 if pd.isnull(x) else x)\n",
    "stud_math.failures.describe()"
   ]
  },
  {
   "cell_type": "markdown",
   "metadata": {},
   "source": [
    "- рассмотрим колонку absences:"
   ]
  },
  {
   "cell_type": "code",
   "execution_count": 20,
   "metadata": {},
   "outputs": [
    {
     "name": "stdout",
     "output_type": "stream",
     "text": [
      "None count = 12 ; 3.05 %\n"
     ]
    },
    {
     "data": {
      "text/plain": [
       "count    381.000000\n",
       "mean       7.267717\n",
       "std       23.521585\n",
       "min        0.000000\n",
       "25%        0.000000\n",
       "50%        4.000000\n",
       "75%        8.000000\n",
       "max      385.000000\n",
       "Name: absences, dtype: float64"
      ]
     },
     "execution_count": 20,
     "metadata": {},
     "output_type": "execute_result"
    },
    {
     "data": {
      "image/png": "[encoded data removed]",
      "text/plain": [
       "<Figure size 432x288 with 1 Axes>"
      ]
     },
     "metadata": {
      "needs_background": "light"
     },
     "output_type": "display_data"
    }
   ],
   "source": [
    "print('None count =', stud_math.absences.isna().sum(), ';',\n",
    "      round(stud_math.absences.isna().sum()/len(stud_math)*100, 2), '%')\n",
    "\n",
    "stud_math.absences.hist()\n",
    "stud_math.absences.describe()"
   ]
  },
  {
   "cell_type": "markdown",
   "metadata": {},
   "source": [
    "- Мы имеем 12 пропущенных значений, но чтобы их заполнить нам надо знать медиану.  По графику можно заметить выбросы, которые сильно искажают меры. Их надо заменить."
   ]
  },
  {
   "cell_type": "code",
   "execution_count": null,
   "metadata": {},
   "outputs": [],
   "source": [
    "get_IQR(stud_math, 'absences')"
   ]
  },
  {
   "cell_type": "code",
   "execution_count": null,
   "metadata": {},
   "outputs": [],
   "source": [
    "stud_math[stud_math.absences <= 50].absences.hist()\n",
    "stud_math[stud_math.absences <= 50].absences.describe()"
   ]
  },
  {
   "cell_type": "markdown",
   "metadata": {},
   "source": [
    "- Заменим выбросы на None и затем заполним значения так, чтобы график не изменился:"
   ]
  },
  {
   "cell_type": "code",
   "execution_count": null,
   "metadata": {},
   "outputs": [],
   "source": [
    "stud_math.absences = stud_math.absences.apply(lambda x: None if x > 30 else x)\n",
    "stud_math['absences'].interpolate(method='linear', direction = 'forward', inplace=True)\n",
    "stud_math.absences.hist()\n",
    "stud_math.absences.describe()"
   ]
  },
  {
   "cell_type": "markdown",
   "metadata": {},
   "source": [
    "- Рассмотрим столбец score — баллы по госэкзамену по математик"
   ]
  },
  {
   "cell_type": "code",
   "execution_count": null,
   "metadata": {},
   "outputs": [],
   "source": [
    "print('None count =', stud_math.score.isna().sum(), ';',\n",
    "      round(stud_math.score.isna().sum()/len(stud_math)*100, 2), '%')\n",
    "\n",
    "stud_math.score.hist()\n",
    "stud_math.score.describe()"
   ]
  },
  {
   "cell_type": "markdown",
   "metadata": {},
   "source": [
    "- Значения с 0 похожи на выбросы, но мы их оставим, т. к. это может означать, что студент не пришел на экзамен, или провалил \n",
    "его полностью. Т е эти значения тоже важны.\n",
    "Заполним пустые значения:"
   ]
  },
  {
   "cell_type": "code",
   "execution_count": null,
   "metadata": {},
   "outputs": [],
   "source": [
    "stud_math['score'].interpolate(method='linear', direction = 'forward', inplace=True)\n",
    "stud_math.score.hist()\n",
    "stud_math.score.describe()"
   ]
  },
  {
   "cell_type": "markdown",
   "metadata": {},
   "source": [
    "Теперь рассмотрим столбцы-категории. medu, fedu, traveltime, famrel, freetime, goout, health, studytime"
   ]
  },
  {
   "cell_type": "markdown",
   "metadata": {},
   "source": [
    "- medu. Образование матери (0 - нет, 1 - 4 класса, 2 - 5-9 классы, 3 - среднее специальное или 11 классов, 4 - высшее)"
   ]
  },
  {
   "cell_type": "code",
   "execution_count": null,
   "metadata": {},
   "outputs": [],
   "source": [
    "print('None count =', stud_math.medu.isna().sum(), ';',\n",
    "      round(stud_math.medu.isna().sum()/len(stud_math)*100, 2), '%')\n",
    "\n",
    "stud_math.medu.hist()\n",
    "stud_math.medu.describe()"
   ]
  },
  {
   "cell_type": "markdown",
   "metadata": {},
   "source": [
    "На графике можно заметить значения, не входящие в список возможных. Заменим их на моду"
   ]
  },
  {
   "cell_type": "code",
   "execution_count": null,
   "metadata": {},
   "outputs": [],
   "source": [
    "stud_math.medu = stud_math.medu.apply(lambda x: '4.0' if x == '0.0' or x == 'nan' or pd.isnull(x) else x) \n",
    "print('None count =', stud_math.medu.isna().sum(), ';',\n",
    "      round(stud_math.medu.isna().sum()/len(stud_math)*100, 2), '%')\n",
    "stud_math.medu.hist()\n",
    "stud_math.medu.describe()"
   ]
  },
  {
   "cell_type": "markdown",
   "metadata": {},
   "source": [
    "- fedu. образование отца (0 - нет, 1 - 4 класса, 2 - 5-9 классы, 3 - среднее специальное или 11 классов, 4 - высшее)"
   ]
  },
  {
   "cell_type": "code",
   "execution_count": null,
   "metadata": {},
   "outputs": [],
   "source": [
    "print('None count =', stud_math.fedu.isna().sum(), ';',\n",
    "      round(stud_math.fedu.isna().sum()/len(stud_math)*100, 2), '%')\n",
    "stud_math.fedu.hist()\n",
    "stud_math.fedu.describe()"
   ]
  },
  {
   "cell_type": "markdown",
   "metadata": {},
   "source": [
    "В поле fedu обнаружилось более 20 неверных значений, если зампенить модой их все, то будет значительной изменение \n",
    "графика. Однако у нас есть поле medu (образование матери), которые должны влиять на оценки ученика одинаково. "
   ]
  },
  {
   "cell_type": "code",
   "execution_count": null,
   "metadata": {},
   "outputs": [],
   "source": [
    "sns.heatmap(pd.crosstab(stud_math['medu'], stud_math['fedu']), annot = True)"
   ]
  },
  {
   "cell_type": "markdown",
   "metadata": {},
   "source": [
    "Также можно заметить, что чаще всего образование матери и отца совпадают, поэтому заполним недостающие значения из колонки medu"
   ]
  },
  {
   "cell_type": "code",
   "execution_count": null,
   "metadata": {},
   "outputs": [],
   "source": [
    "stud_math.fedu = stud_math.apply(lambda x: x.medu if x.fedu == 'nan' or x.fedu == '40.0' or pd.isnull(x.fedu) else x.fedu, axis=1)\n",
    "stud_math.fedu.hist()\n",
    "stud_math.fedu.describe()"
   ]
  },
  {
   "cell_type": "markdown",
   "metadata": {},
   "source": [
    "- рассмотрим столбец school - аббревиатура школы, в которой учится ученик"
   ]
  },
  {
   "cell_type": "code",
   "execution_count": null,
   "metadata": {},
   "outputs": [],
   "source": [
    "print('None count =', stud_math.school.isna().sum(), ';',\n",
    "      round(stud_math.school.isna().sum()/len(stud_math)*100, 2), '%')\n",
    "\n",
    "stud_math.school.hist()\n",
    "stud_math.school.describe()"
   ]
  },
  {
   "cell_type": "markdown",
   "metadata": {},
   "source": [
    "Заполнен полностью, ничего не надо менять. Заметим, что большая чать учеников учатся в одной школе. \n",
    "Во второй школе очень мало учеников."
   ]
  },
  {
   "cell_type": "markdown",
   "metadata": {},
   "source": [
    "- рассмотрим столбец sex. пол ученика ('F' - женский, 'M' - мужской)"
   ]
  },
  {
   "cell_type": "code",
   "execution_count": null,
   "metadata": {},
   "outputs": [],
   "source": [
    "print('None count =', stud_math.sex.isna().sum(), ';',\n",
    "      round(stud_math.sex.isna().sum()/len(stud_math)*100, 2), '%')\n",
    "\n",
    "stud_math.sex.hist()\n",
    "stud_math.sex.describe()"
   ]
  },
  {
   "cell_type": "markdown",
   "metadata": {},
   "source": [
    "- Девочек и мальчиков примерно одинаковое количество"
   ]
  },
  {
   "cell_type": "markdown",
   "metadata": {},
   "source": [
    "- Рассмотрим столбец address. тип адреса ученика ('U' - городской, 'R' - за городом)"
   ]
  },
  {
   "cell_type": "code",
   "execution_count": null,
   "metadata": {},
   "outputs": [],
   "source": [
    "print('None count =', stud_math.address.isna().sum(), ';',\n",
    "      round(stud_math.address.isna().sum()/len(stud_math)*100, 2), '%')\n",
    "\n",
    "stud_math.address.hist()\n",
    "stud_math.address.describe()"
   ]
  },
  {
   "cell_type": "markdown",
   "metadata": {},
   "source": [
    "Здесь есть пропущенные значения, можно предположить, что school может нам помочь."
   ]
  },
  {
   "cell_type": "code",
   "execution_count": null,
   "metadata": {},
   "outputs": [],
   "source": [
    "sns.heatmap(pd.crosstab(stud_math['address'], stud_math['school']), annot = True)"
   ]
  },
  {
   "cell_type": "markdown",
   "metadata": {},
   "source": [
    "В school='GP' учатся в остовном ученики из города. Вероятно сама школа находится в городе. Так и заполним пустые поля address"
   ]
  },
  {
   "cell_type": "code",
   "execution_count": null,
   "metadata": {},
   "outputs": [],
   "source": [
    "stud_math.address = stud_math.apply(lambda x: 'U' if x.school == 'GP' else 'R', axis=1)\n",
    "stud_math.address.hist()\n",
    "stud_math.address.describe()"
   ]
  },
  {
   "cell_type": "markdown",
   "metadata": {},
   "source": [
    "- studytime — время на учёбу помимо школы в неделю (1 - <2 часов, 2 - 2-5 часов, 3 - 5-10 часов, 4 - >10 часов)"
   ]
  },
  {
   "cell_type": "code",
   "execution_count": null,
   "metadata": {},
   "outputs": [],
   "source": [
    "print('None count =', stud_math.studytime.isna().sum(), ';',\n",
    "      round(stud_math.studytime.isna().sum()/len(stud_math)*100, 2), '%')\n",
    "\n",
    "print('nan count =', stud_math[stud_math.studytime == 'nan'].studytime.count(), ';',\n",
    "      round(stud_math[stud_math.studytime == 'nan'].studytime.count()/len(stud_math)*100, 2), '%')\n",
    "\n",
    "stud_math.studytime.hist()\n",
    "stud_math.studytime.describe()"
   ]
  },
  {
   "cell_type": "markdown",
   "metadata": {},
   "source": [
    "Найдены значения 'nan', их всего 7, можно заменить модой - 2"
   ]
  },
  {
   "cell_type": "code",
   "execution_count": null,
   "metadata": {},
   "outputs": [],
   "source": [
    "stud_math.studytime = stud_math.studytime.apply(lambda x: '2.0' if x == 'nan' else x)\n",
    "stud_math.studytime.hist()\n",
    "stud_math.studytime.describe()"
   ]
  },
  {
   "cell_type": "markdown",
   "metadata": {},
   "source": [
    "- schoolsup — дополнительная образовательная поддержка (yes или no)"
   ]
  },
  {
   "cell_type": "code",
   "execution_count": null,
   "metadata": {},
   "outputs": [],
   "source": [
    "print('None count =', stud_math.schoolsup.isna().sum(), ';',\n",
    "      round(stud_math.schoolsup.isna().sum()/len(stud_math)*100, 2), '%')\n",
    "\n",
    "stud_math.schoolsup.hist()\n",
    "stud_math.schoolsup.describe()"
   ]
  },
  {
   "cell_type": "markdown",
   "metadata": {},
   "source": [
    "Не большое количество пустых значений заменяем на моду:"
   ]
  },
  {
   "cell_type": "code",
   "execution_count": null,
   "metadata": {},
   "outputs": [],
   "source": [
    "stud_math.schoolsup = stud_math.schoolsup.apply(lambda x: 'no' if pd.isnull(x) else x)\n",
    "stud_math.schoolsup.hist()\n",
    "stud_math.schoolsup.describe()"
   ]
  },
  {
   "cell_type": "markdown",
   "metadata": {},
   "source": [
    "- nursery — посещал детский сад (yes или no)"
   ]
  },
  {
   "cell_type": "code",
   "execution_count": null,
   "metadata": {},
   "outputs": [],
   "source": [
    "print('None count =', stud_math.nursery.isna().sum(), ';',\n",
    "      round(stud_math.nursery.isna().sum()/len(stud_math)*100, 2), '%')\n",
    "\n",
    "stud_math.nursery.hist()\n",
    "stud_math.nursery.describe()"
   ]
  },
  {
   "cell_type": "code",
   "execution_count": null,
   "metadata": {},
   "outputs": [],
   "source": [
    "stud_math.nursery = stud_math.nursery.apply(lambda x: 'yes' if pd.isnull(x) else x)\n",
    "stud_math.nursery.hist()\n",
    "stud_math.nursery.describe()"
   ]
  },
  {
   "cell_type": "code",
   "execution_count": null,
   "metadata": {},
   "outputs": [],
   "source": [
    "print('None count =', stud_math.higher.isna().sum(), ';',\n",
    "      round(stud_math.higher.isna().sum()/len(stud_math)*100, 2), '%')\n",
    "\n",
    "stud_math.higher.hist()\n",
    "stud_math.higher.describe()"
   ]
  },
  {
   "cell_type": "code",
   "execution_count": null,
   "metadata": {},
   "outputs": [],
   "source": [
    "stud_math.higher = stud_math.higher.apply(lambda x: 'yes' if pd.isnull(x) else x)\n",
    "stud_math.higher.hist()\n",
    "stud_math.higher.describe()"
   ]
  },
  {
   "cell_type": "markdown",
   "metadata": {},
   "source": [
    "- freetime — свободное время после школы (от 1 - очень мало до 5 - очень мого)"
   ]
  },
  {
   "cell_type": "code",
   "execution_count": null,
   "metadata": {},
   "outputs": [],
   "source": [
    "print('None count =', stud_math.freetime.isna().sum(), ';',\n",
    "      round(stud_math.freetime.isna().sum()/len(stud_math)*100, 2), '%')\n",
    "\n",
    "stud_math.freetime.hist()\n",
    "stud_math.freetime.describe()"
   ]
  },
  {
   "cell_type": "code",
   "execution_count": null,
   "metadata": {},
   "outputs": [],
   "source": [
    "stud_math.freetime = stud_math.freetime.apply(lambda x: '3.0' if x == 'nan' pd.isnull(x) else x)\n",
    "stud_math.freetime.hist()\n",
    "stud_math.freetime.describe()"
   ]
  },
  {
   "cell_type": "markdown",
   "metadata": {},
   "source": [
    "- goout — проведение времени с друзьями (от 1 - очень мало до 5 - очень много)"
   ]
  },
  {
   "cell_type": "code",
   "execution_count": null,
   "metadata": {},
   "outputs": [],
   "source": [
    "print('None count =', stud_math.goout.isna().sum(), ';',\n",
    "      round(stud_math.goout.isna().sum()/len(stud_math)*100, 2), '%')\n",
    "\n",
    "stud_math.goout.hist()\n",
    "stud_math.goout.describe()"
   ]
  },
  {
   "cell_type": "code",
   "execution_count": null,
   "metadata": {},
   "outputs": [],
   "source": [
    "stud_math.goout = stud_math.goout.apply(lambda x: None if x == 'nan' else x)\n",
    "stud_math.goout = stud_math.goout.interpolate(method='pad')\n",
    "stud_math.goout.hist()\n",
    "stud_math.goout.describe()"
   ]
  },
  {
   "cell_type": "markdown",
   "metadata": {},
   "source": [
    "- health — текущее состояние здоровья (от 1 - очень плохо до 5 - очень хорошо)"
   ]
  },
  {
   "cell_type": "code",
   "execution_count": null,
   "metadata": {},
   "outputs": [],
   "source": [
    "print('None count =', stud_math.health.isna().sum(), ';',\n",
    "      round(stud_math.health.isna().sum()/len(stud_math)*100, 2), '%')\n",
    "\n",
    "stud_math.health.hist()\n",
    "stud_math.health.describe()"
   ]
  },
  {
   "cell_type": "markdown",
   "metadata": {},
   "source": [
    "Есть значения 'nan', заполним их медианой"
   ]
  },
  {
   "cell_type": "code",
   "execution_count": null,
   "metadata": {},
   "outputs": [],
   "source": [
    "stud_math.health = stud_math.health.apply(lambda x: '5.0' if x == 'nan' else x)\n",
    "stud_math1.health.hist()\n",
    "stud_math1.health.describe()"
   ]
  },
  {
   "cell_type": "markdown",
   "metadata": {},
   "source": [
    "- pstatus — статус совместного жилья родителей ('T' - живут вместе 'A' - раздельно)"
   ]
  },
  {
   "cell_type": "code",
   "execution_count": null,
   "metadata": {},
   "outputs": [],
   "source": [
    "print('None count =', stud_math.pstatus.isna().sum(), ';',\n",
    "      round(stud_math.pstatus.isna().sum()/len(stud_math)*100, 2), '%')\n",
    "\n",
    "stud_math.pstatus.hist()\n",
    "stud_math.pstatus.describe()"
   ]
  },
  {
   "cell_type": "markdown",
   "metadata": {},
   "source": [
    "заполним пропущенные значения модой"
   ]
  },
  {
   "cell_type": "code",
   "execution_count": null,
   "metadata": {},
   "outputs": [],
   "source": [
    "stud_math.pstatus = stud_math.apply(lambda x: 'T' if pd.isnull(x.pstatus) else x.pstatus, axis=1)\n",
    "stud_math.pstatus.hist()\n",
    "stud_math.pstatus.describe()"
   ]
  },
  {
   "cell_type": "markdown",
   "metadata": {},
   "source": [
    "- столбец famsize — размер семьи('LE3' <= 3, 'GT3' >3)"
   ]
  },
  {
   "cell_type": "code",
   "execution_count": null,
   "metadata": {},
   "outputs": [],
   "source": [
    "print('None count =', stud_math.famsize.isna().sum(), ';',\n",
    "      round(stud_math.famsize.isna().sum()/len(stud_math)*100, 2), '%')\n",
    "\n",
    "stud_math.famsize.hist()\n",
    "stud_math.famsize.describe()"
   ]
  },
  {
   "cell_type": "markdown",
   "metadata": {},
   "source": [
    "Рассмотрим связь с показателем, живет ли семья вместе:"
   ]
  },
  {
   "cell_type": "code",
   "execution_count": null,
   "metadata": {},
   "outputs": [],
   "source": [
    "sns.heatmap(pd.crosstab(stud_math['pstatus'], stud_math['famsize']), annot = True)"
   ]
  },
  {
   "cell_type": "markdown",
   "metadata": {},
   "source": [
    "Видим, что если указан pstatus, то примерно одинаково распределяется признак famsize. GT3: 90% T, LE3: 87% T. \n",
    "Можно заполнить строки равномерно, чтобы отношение осталось прежним: "
   ]
  },
  {
   "cell_type": "code",
   "execution_count": null,
   "metadata": {},
   "outputs": [],
   "source": [
    "stud_math.famsize = stud_math.famsize.interpolate(method='pad')\n",
    "stud_math.famsize = stud_math.famsize.apply(lambda x: 'GT3' if pd.isnull(x) else x)\n",
    "\n",
    "stud_math.famsize.hist()\n",
    "stud_math.famsize.describe()"
   ]
  },
  {
   "cell_type": "markdown",
   "metadata": {},
   "source": [
    "- internet — наличие интернета дома (yes или no)"
   ]
  },
  {
   "cell_type": "code",
   "execution_count": null,
   "metadata": {},
   "outputs": [],
   "source": [
    "print('None count =', stud_math.internet.isna().sum(), ';',\n",
    "      round(stud_math.internet.isna().sum()/len(stud_math)*100, 2), '%')\n",
    "\n",
    "stud_math.internet.hist()\n",
    "stud_math.internet.describe()"
   ]
  },
  {
   "cell_type": "markdown",
   "metadata": {},
   "source": [
    "Имеются пропуски в данных, их можно попробовать заполнить, исходя из данных столбца address"
   ]
  },
  {
   "cell_type": "code",
   "execution_count": null,
   "metadata": {},
   "outputs": [],
   "source": [
    "print('Количество незаполненных internet для учеников за городом',\n",
    "      len(stud_math[pd.isnull(stud_math.internet)&(stud_math.address=='R')]))\n",
    "sns.heatmap(pd.crosstab(stud_math['internet'], stud_math['address']), annot = True)"
   ]
  },
  {
   "cell_type": "markdown",
   "metadata": {},
   "source": [
    "Можно заметить, что у 30% населения за городом нет интеренета, а в городе интернете нет только у 16% учеников. Также мы знаем, что из 34 пропусков всего 3 - ученики за городом, по статистике 1 из них без интернета, но этим можно принебречь, и заполнит все пропуски модой - \"yes\""
   ]
  },
  {
   "cell_type": "code",
   "execution_count": null,
   "metadata": {},
   "outputs": [],
   "source": [
    "stud_math.internet = stud_math.internet.apply(lambda x: 'yes' if pd.isnull(x) else x)\n",
    "\n",
    "stud_math.internet.hist()\n",
    "stud_math.internet.describe()"
   ]
  },
  {
   "cell_type": "markdown",
   "metadata": {},
   "source": [
    "- romantic — в романтических отношениях (yes или no)"
   ]
  },
  {
   "cell_type": "code",
   "execution_count": null,
   "metadata": {},
   "outputs": [],
   "source": [
    "print('None count =', stud_math.romantic.isna().sum(), ';',\n",
    "      round(stud_math.romantic.isna().sum()/len(stud_math)*100, 2), '%')\n",
    "\n",
    "stud_math.romantic.hist()\n",
    "stud_math.romantic.describe()"
   ]
  },
  {
   "cell_type": "markdown",
   "metadata": {},
   "source": [
    "В столбце 31 пропуск, заполним данные равномерно:"
   ]
  },
  {
   "cell_type": "code",
   "execution_count": null,
   "metadata": {},
   "outputs": [],
   "source": [
    "stud_math['romantic'].interpolate(method='pad')\n",
    "stud_math['romantic'] = stud_math.romantic.apply(lambda x: 'no' if pd.isnull(x) else x)\n",
    "stud_math.romantic.hist()\n",
    "stud_math.romantic.describe()"
   ]
  },
  {
   "cell_type": "markdown",
   "metadata": {},
   "source": [
    "- reason — причина выбора школы ('home' - близость к дому, 'reputation' - репутация школы, 'course' - образовательная программа, 'other' - другое)"
   ]
  },
  {
   "cell_type": "code",
   "execution_count": null,
   "metadata": {},
   "outputs": [],
   "source": [
    "print('None count =', stud_math.reason.isna().sum(), ';',\n",
    "      round(stud_math.reason.isna().sum()/len(stud_math)*100, 2), '%')\n",
    "\n",
    "stud_math.reason.hist()\n",
    "stud_math.reason.describe()"
   ]
  },
  {
   "cell_type": "code",
   "execution_count": null,
   "metadata": {},
   "outputs": [],
   "source": [
    "Есть небольшое количество пропущенных значений, заполним их модой:"
   ]
  },
  {
   "cell_type": "code",
   "execution_count": null,
   "metadata": {},
   "outputs": [],
   "source": [
    "stud_math.reason = stud_math.reason.apply(lambda x: 'course' if pd.isnull(x) else x)\n",
    "stud_math.reason.hist()\n",
    "stud_math.reason.describe()"
   ]
  },
  {
   "cell_type": "markdown",
   "metadata": {},
   "source": [
    "- mjob — работа матери ('teacher' - учитель, 'health' - сфера здравоохранения, 'services' - гос служба, 'at_home' - не работает, 'other' - другое)"
   ]
  },
  {
   "cell_type": "code",
   "execution_count": null,
   "metadata": {},
   "outputs": [],
   "source": [
    "print('None count =', stud_math.mjob.isna().sum(), ';',\n",
    "      round(stud_math.mjob.isna().sum()/len(stud_math)*100, 2), '%')\n",
    "\n",
    "stud_math.mjob.hist()\n",
    "stud_math.mjob.describe()"
   ]
  },
  {
   "cell_type": "markdown",
   "metadata": {},
   "source": [
    "Мы имеем 19 пустых значений, их можно заполнить исходя из данных об образовании матери:"
   ]
  },
  {
   "cell_type": "code",
   "execution_count": null,
   "metadata": {},
   "outputs": [],
   "source": [
    "sns.heatmap(pd.crosstab(stud_math['mjob'], stud_math['medu']), annot = True)"
   ]
  },
  {
   "cell_type": "markdown",
   "metadata": {},
   "source": [
    "Можно заметить, что если мать получила высшее образовании, то гораздо чаще она является учителем. В остальных случаях other"
   ]
  },
  {
   "cell_type": "code",
   "execution_count": null,
   "metadata": {},
   "outputs": [],
   "source": [
    "stud_math.mjob = stud_math.apply(lambda x: 'teacher' if pd.isnull(x.mjob) and x.medu == '4.0' else x.mjob, axis=1)\n",
    "stud_math.mjob = stud_math.mjob.apply(lambda x: 'other' if pd.isnull(x) else x)\n",
    "stud_math.mjob.hist()\n",
    "stud_math.mjob.describe()"
   ]
  },
  {
   "cell_type": "markdown",
   "metadata": {},
   "source": [
    "- fjob — работа отца ('teacher' - учитель, 'health' - сфера здравоохранения, 'services' - гос служба, 'at_home' - не работает, 'other' - другое)"
   ]
  },
  {
   "cell_type": "code",
   "execution_count": null,
   "metadata": {},
   "outputs": [],
   "source": [
    "print('None count =', stud_math.fjob.isna().sum(), ';',\n",
    "      round(stud_math.fjob.isna().sum()/len(stud_math)*100, 2), '%')\n",
    "\n",
    "stud_math.fjob.hist()\n",
    "stud_math.fjob.describe()"
   ]
  },
  {
   "cell_type": "code",
   "execution_count": null,
   "metadata": {},
   "outputs": [],
   "source": [
    "sns.heatmap(pd.crosstab(stud_math['fjob'], stud_math['fedu']), annot = True)"
   ]
  },
  {
   "cell_type": "markdown",
   "metadata": {},
   "source": [
    "В этом поле много пропусков, нельзя заполнить их просто заполнить модой. При рассмотрении связи образования отца с работой, видим, что каждый 3 отец работает в \"services\", не зависимо от образования, остальные в основном в \"other\". "
   ]
  },
  {
   "cell_type": "code",
   "execution_count": null,
   "metadata": {},
   "outputs": [],
   "source": [
    "stud_math.loc[pd.isnull(stud_math.fjob)&(stud_math.index%3==0), ['fjob']] = 'services'\n",
    "stud_math.fjob = stud_math.fjob.apply(lambda x: 'other' if pd.isnull(x) else x)\n",
    "\n",
    "stud_math.fjob.hist()\n",
    "stud_math.fjob.describe()"
   ]
  },
  {
   "cell_type": "markdown",
   "metadata": {},
   "source": [
    "- guardian — опекун ('mother' - мать, 'father' - отец, 'other' - другое)"
   ]
  },
  {
   "cell_type": "code",
   "execution_count": null,
   "metadata": {},
   "outputs": [],
   "source": [
    "print('None count =', stud_math.guardian.isna().sum(), ';',\n",
    "      round(stud_math.guardian.isna().sum()/len(stud_math)*100, 2), '%')\n",
    "\n",
    "stud_math.guardian.hist()\n",
    "stud_math.guardian.describe()"
   ]
  },
  {
   "cell_type": "markdown",
   "metadata": {},
   "source": [
    "Чаще всего опекун мама, не смотря на обстановку в доме или профессии родителей, поэтому заполним пропущенные значения \"mother\""
   ]
  },
  {
   "cell_type": "code",
   "execution_count": null,
   "metadata": {},
   "outputs": [],
   "source": [
    "stud_math.guardian = stud_math.guardian.apply(lambda x: 'mother' if pd.isnull(x) else x)\n",
    "\n",
    "stud_math.guardian.hist()\n",
    "stud_math.guardian.describe()"
   ]
  },
  {
   "cell_type": "markdown",
   "metadata": {},
   "source": [
    "- famrel — семейные отношения (от 1 - очень плохо до 5 - очень хорошо)"
   ]
  },
  {
   "cell_type": "code",
   "execution_count": null,
   "metadata": {},
   "outputs": [],
   "source": [
    "print('None count =', stud_math.famrel.isna().sum(), ';',\n",
    "      round(stud_math.famrel.isna().sum()/len(stud_math)*100, 2), '%')\n",
    "\n",
    "stud_math.famrel.hist()\n",
    "stud_math.famrel.describe()"
   ]
  },
  {
   "cell_type": "code",
   "execution_count": null,
   "metadata": {},
   "outputs": [],
   "source": [
    "Заполним пропуски медианой:"
   ]
  },
  {
   "cell_type": "code",
   "execution_count": null,
   "metadata": {},
   "outputs": [],
   "source": [
    "stud_math.famrel = stud_math.famrel.apply(lambda x: '4.0' if x == 'nan' or x == '-1.0' or pd.isnull(x) else x)\n",
    "\n",
    "stud_math.famrel.hist()\n",
    "stud_math.famrel.describe()"
   ]
  },
  {
   "cell_type": "markdown",
   "metadata": {},
   "source": [
    "- traveltime — время в пути до школы (1 - <15 мин., 2 - 15-30 мин., 3 - 30-60 мин., 4 - >60 мин.)"
   ]
  },
  {
   "cell_type": "code",
   "execution_count": null,
   "metadata": {},
   "outputs": [],
   "source": [
    "print('None count =', stud_math.traveltime.isna().sum(), ';',\n",
    "      round(stud_math.traveltime.isna().sum()/len(stud_math)*100, 2), '%')\n",
    "\n",
    "stud_math.traveltime.hist()\n",
    "stud_math.traveltime.describe()"
   ]
  },
  {
   "cell_type": "markdown",
   "metadata": {},
   "source": [
    "В этом столбце есть неверные и пропущенные значения, которые надо изменить. Рассмотрим связь между временем в пути до школы и местом жительства. Мы видим, что, если ученик живет за городом, то то он трати на дорогу в основном 15-30 мин. Городские жители - менее 15 мин"
   ]
  },
  {
   "cell_type": "code",
   "execution_count": null,
   "metadata": {},
   "outputs": [],
   "source": [
    "sns.heatmap(pd.crosstab(stud_math['traveltime'], stud_math['address']), annot = True)"
   ]
  },
  {
   "cell_type": "code",
   "execution_count": null,
   "metadata": {},
   "outputs": [],
   "source": [
    "stud_math.traveltime = stud_math.apply(lambda x: '2.0' if x.traveltime == 'nan' and x.address == 'R' else x.traveltime, axis=1)\n",
    "stud_math.traveltime = stud_math.traveltime.apply(lambda x: '1.0' if x == 'nan' else x)\n",
    "\n",
    "stud_math.traveltime.hist()\n",
    "stud_math.traveltime.describe()"
   ]
  },
  {
   "cell_type": "markdown",
   "metadata": {},
   "source": [
    "- famsup — семейная образовательная поддержка (yes или no)"
   ]
  },
  {
   "cell_type": "code",
   "execution_count": null,
   "metadata": {},
   "outputs": [],
   "source": [
    "print('None count =', stud_math.famsup.isna().sum(), ';',\n",
    "      round(stud_math.famsup.isna().sum()/len(stud_math)*100, 2), '%')\n",
    "\n",
    "stud_math.famsup.hist()\n",
    "stud_math.famsup.describe()"
   ]
  },
  {
   "cell_type": "markdown",
   "metadata": {},
   "source": [
    "В данном столбце 10.0% пропусков, который нужно заполнить. \n",
    "У нас есть данные о работе и образовании родителей, это должно влиять семейную образовательную поддержку:"
   ]
  },
  {
   "cell_type": "code",
   "execution_count": null,
   "metadata": {},
   "outputs": [],
   "source": [
    "sns.heatmap(pd.crosstab(stud_math['famsup'], stud_math['mjob']), annot = True)"
   ]
  },
  {
   "cell_type": "code",
   "execution_count": null,
   "metadata": {},
   "outputs": [],
   "source": [
    "sns.heatmap(pd.crosstab(stud_math['famsup'], stud_math['fjob']), annot = True)"
   ]
  },
  {
   "cell_type": "markdown",
   "metadata": {},
   "source": [
    "Можно заметить, что родители-учителя и родители, работающие в сфере здоровья > 70% случаев помогают своим детям с учебой"
   ]
  },
  {
   "cell_type": "code",
   "execution_count": null,
   "metadata": {},
   "outputs": [],
   "source": [
    "stud_math.famsup = stud_math.apply(lambda x: 'yes' if pd.isnull(x.famsup) and (x.mjob == 'teacher' or x.fjob == 'teacher' or x.mjob == 'health' or x.fjob == 'health') else x.famsup, axis=1)"
   ]
  },
  {
   "cell_type": "markdown",
   "metadata": {},
   "source": [
    "Теперь рассмотрим связь с образованием родителей:"
   ]
  },
  {
   "cell_type": "code",
   "execution_count": null,
   "metadata": {},
   "outputs": [],
   "source": [
    "sns.heatmap(pd.crosstab(stud_math['famsup'], stud_math['medu']), annot = True)"
   ]
  },
  {
   "cell_type": "code",
   "execution_count": null,
   "metadata": {},
   "outputs": [],
   "source": [
    "sns.heatmap(pd.crosstab(stud_math['famsup'], stud_math['fedu']), annot = True)"
   ]
  },
  {
   "cell_type": "markdown",
   "metadata": {},
   "source": [
    "Можно заметить, что родители с образованием 1-4 класса чаще не помогают с учебой детям. Остальные строки можно заполнит модой:"
   ]
  },
  {
   "cell_type": "code",
   "execution_count": null,
   "metadata": {},
   "outputs": [],
   "source": [
    "stud_math.famsup = stud_math.apply(lambda x: 'no' if pd.isnull(x.famsup) and x.medu == '1.0' and x.fedu == '1.0' else x.famsup, axis=1)\n",
    "stud_math.famsup = stud_math.apply(lambda x: 'yes' if pd.isnull(x.famsup) else x.famsup, axis=1)\n",
    "stud_math.famsup.hist()\n",
    "stud_math.famsup.describe()"
   ]
  },
  {
   "cell_type": "markdown",
   "metadata": {},
   "source": [
    "- paid — дополнительные платные занятия по математике (yes или no)"
   ]
  },
  {
   "cell_type": "code",
   "execution_count": null,
   "metadata": {},
   "outputs": [],
   "source": [
    "print('None count =', stud_math.paid.isna().sum(), ';',\n",
    "      round(stud_math.paid.isna().sum()/len(stud_math)*100, 2), '%')\n",
    "\n",
    "stud_math.paid.hist()\n",
    "stud_math.paid.describe()"
   ]
  },
  {
   "cell_type": "markdown",
   "metadata": {},
   "source": [
    "В столбце имеются много пропусков 10.26 %, попробуем вычислить недостающие значения по информации, хочет ли ученик получить высшее образование. По графику мы можем точно сказать, что если ученик не собирается получать высшее образование, то и платить за дополнительные занятия он не будет"
   ]
  },
  {
   "cell_type": "code",
   "execution_count": null,
   "metadata": {},
   "outputs": [],
   "source": [
    "sns.heatmap(pd.crosstab(stud_math['paid'], stud_math['higher']), annot = True)"
   ]
  },
  {
   "cell_type": "markdown",
   "metadata": {},
   "source": [
    "Если же у ученика проблемы со здоровьем, то родители чаще прибегнут к платным занятиям:"
   ]
  },
  {
   "cell_type": "code",
   "execution_count": null,
   "metadata": {},
   "outputs": [],
   "source": [
    "sns.heatmap(pd.crosstab(stud_math['paid'], stud_math['health']), annot = True)"
   ]
  },
  {
   "cell_type": "markdown",
   "metadata": {},
   "source": [
    "Также мамы-учителя чаще оплачивают дополнительные занятия:"
   ]
  },
  {
   "cell_type": "code",
   "execution_count": null,
   "metadata": {},
   "outputs": [],
   "source": [
    "sns.heatmap(pd.crosstab(stud_math['paid'], stud_math['mjob']), annot = True)"
   ]
  },
  {
   "cell_type": "markdown",
   "metadata": {},
   "source": [
    "В остальных случаях ставим значение моды 'no':"
   ]
  },
  {
   "cell_type": "code",
   "execution_count": null,
   "metadata": {},
   "outputs": [],
   "source": [
    "stud_math.paid = stud_math.apply(lambda x: 'no' if pd.isnull(x.paid) and x.higher == 'no' else x.paid, axis=1)\n",
    "stud_math.paid = stud_math.apply(lambda x: 'yes' if pd.isnull(x.paid) and x.health == '1.0' else x.paid, axis=1)\n",
    "stud_math.paid = stud_math.apply(lambda x: 'yes' if pd.isnull(x.paid) and x.mjob == 'teacher' else x.paid, axis=1)\n",
    "stud_math.paid = stud_math.apply(lambda x: 'no' if pd.isnull(x.paid) else x.paid, axis=1)\n",
    "stud_math.paid.hist()\n",
    "stud_math.paid.describe()"
   ]
  },
  {
   "cell_type": "markdown",
   "metadata": {},
   "source": [
    "- activities — дополнительные внеучебные занятия (yes или no)"
   ]
  },
  {
   "cell_type": "code",
   "execution_count": null,
   "metadata": {},
   "outputs": [],
   "source": [
    "print('None count =', stud_math.activities.isna().sum(), ';',\n",
    "      round(stud_math.activities.isna().sum()/len(stud_math)*100, 2), '%')\n",
    "\n",
    "stud_math.activities.hist()\n",
    "stud_math.activities.describe()"
   ]
  },
  {
   "cell_type": "markdown",
   "metadata": {},
   "source": [
    "Т к пропусков немного, заполним их модой:"
   ]
  },
  {
   "cell_type": "code",
   "execution_count": null,
   "metadata": {},
   "outputs": [],
   "source": [
    "stud_math.activities = stud_math.activities.apply(lambda x: 'yes' if pd.isnull(x) else x)\n",
    "\n",
    "stud_math.activities.hist()\n",
    "stud_math.activities.describe()"
   ]
  },
  {
   "cell_type": "code",
   "execution_count": null,
   "metadata": {},
   "outputs": [],
   "source": [
    "-------------------------------------------------------------"
   ]
  },
  {
   "cell_type": "code",
   "execution_count": null,
   "metadata": {},
   "outputs": [],
   "source": [
    "def get_stat_dif(column):\n",
    "    cols = stud_math.loc[:, column].value_counts()\n",
    "    combinations_all = list(combinations(cols, 2))\n",
    "    for comb in combinations_all:\n",
    "        if ttest_ind(stud_math.loc[stud_math.loc[:, column] == comb[0], 'score'], \n",
    "                        stud_math.loc[stud_math.loc[:, column] == comb[1], 'score']).pvalue <= 0.05/len(combinations_all): # Учли поправку Бонферони\n",
    "            print('Найдены статистически значимые различия для колонки', column)\n",
    "            break"
   ]
  },
  {
   "cell_type": "code",
   "execution_count": null,
   "metadata": {},
   "outputs": [],
   "source": [
    "get_stat_dif('school')"
   ]
  },
  {
   "cell_type": "code",
   "execution_count": null,
   "metadata": {},
   "outputs": [],
   "source": [
    "for col in ['school', 'sex', 'address', 'famsize', 'studytime', 'schoolsup', 'nursery', \\\n",
    "           'higher', 'freetime', 'goout', 'health', 'pstatus', 'internet', 'romantic',\n",
    "           'reason', 'mjob', 'fjob', 'guardian', 'famrel', 'traveltime']:\n",
    "    get_stat_dif(col)"
   ]
  },
  {
   "cell_type": "code",
   "execution_count": null,
   "metadata": {},
   "outputs": [],
   "source": [
    "stud_math.isna().sum()"
   ]
  },
  {
   "cell_type": "code",
   "execution_count": null,
   "metadata": {},
   "outputs": [],
   "source": [
    "sns.boxplot(x = 'famsize', y = 'score', data=stud_math)"
   ]
  },
  {
   "cell_type": "code",
   "execution_count": null,
   "metadata": {},
   "outputs": [],
   "source": [
    "sns.heatmap(pd.crosstab(stud_math['internet'], stud_math['address']), annot = True)"
   ]
  },
  {
   "cell_type": "code",
   "execution_count": null,
   "metadata": {},
   "outputs": [],
   "source": [
    "for col in ['school', 'sex', 'address', 'famsize', 'medu', 'fedu', 'mjob', 'fjob', 'reason', 'guardian', 'traveltime', 'studytime', 'failures', 'freetime', 'famrel','goout', 'health']:\n",
    "    get_stat_dif(col)"
   ]
  },
  {
   "cell_type": "code",
   "execution_count": null,
   "metadata": {},
   "outputs": [],
   "source": []
  }
 ],
 "metadata": {
  "kernelspec": {
   "display_name": "Python 3",
   "language": "python",
   "name": "python3"
  },
  "language_info": {
   "codemirror_mode": {
    "name": "ipython",
    "version": 3
   },
   "file_extension": ".py",
   "mimetype": "text/x-python",
   "name": "python",
   "nbconvert_exporter": "python",
   "pygments_lexer": "ipython3",
   "version": "3.7.6"
  }
 },
 "nbformat": 4,
 "nbformat_minor": 4
}
